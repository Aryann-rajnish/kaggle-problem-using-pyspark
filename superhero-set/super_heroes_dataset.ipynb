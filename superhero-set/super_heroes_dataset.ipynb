{
 "cells": [
  {
   "cell_type": "code",
   "execution_count": 13,
   "metadata": {},
   "outputs": [],
   "source": [
    "from pyspark.sql import *"
   ]
  },
  {
   "cell_type": "code",
   "execution_count": 14,
   "metadata": {},
   "outputs": [
    {
     "name": "stdout",
     "output_type": "stream",
     "text": [
      "+---+-------------+------+---------+-----------------+----------+------+-----------------+----------+---------+------+\n",
      "|_c0|         name|Gender|Eye color|             Race|Hair color|Height|        Publisher|Skin color|Alignment|Weight|\n",
      "+---+-------------+------+---------+-----------------+----------+------+-----------------+----------+---------+------+\n",
      "|  0|       A-Bomb|  Male|   yellow|            Human|   No Hair| 203.0|    Marvel Comics|         -|     good| 441.0|\n",
      "|  1|   Abe Sapien|  Male|     blue|    Icthyo Sapien|   No Hair| 191.0|Dark Horse Comics|      blue|     good|  65.0|\n",
      "|  2|     Abin Sur|  Male|     blue|          Ungaran|   No Hair| 185.0|        DC Comics|       red|     good|  90.0|\n",
      "|  3|  Abomination|  Male|    green|Human / Radiation|   No Hair| 203.0|    Marvel Comics|         -|      bad| 441.0|\n",
      "|  4|      Abraxas|  Male|     blue|    Cosmic Entity|     Black| -99.0|    Marvel Comics|         -|      bad| -99.0|\n",
      "|  5|Absorbing Man|  Male|     blue|            Human|   No Hair| 193.0|    Marvel Comics|         -|      bad| 122.0|\n",
      "|  6|  Adam Monroe|  Male|     blue|                -|     Blond| -99.0|     NBC - Heroes|         -|     good| -99.0|\n",
      "|  7| Adam Strange|  Male|     blue|            Human|     Blond| 185.0|        DC Comics|         -|     good|  88.0|\n",
      "|  8|     Agent 13|Female|     blue|                -|     Blond| 173.0|    Marvel Comics|         -|     good|  61.0|\n",
      "|  9|    Agent Bob|  Male|    brown|            Human|     Brown| 178.0|    Marvel Comics|         -|     good|  81.0|\n",
      "+---+-------------+------+---------+-----------------+----------+------+-----------------+----------+---------+------+\n",
      "only showing top 10 rows\n",
      "\n"
     ]
    }
   ],
   "source": [
    "Superhero_df = spark.read.csv(\"heroes_information.csv\", inferSchema = True, header = True)\n",
    " \n",
    "Superhero_df.show(10)"
   ]
  },
  {
   "cell_type": "code",
   "execution_count": 4,
   "metadata": {},
   "outputs": [
    {
     "data": {
      "text/plain": [
       "505"
      ]
     },
     "execution_count": 4,
     "metadata": {},
     "output_type": "execute_result"
    }
   ],
   "source": [
    "Superhero_df.filter(Superhero_df.Gender == 'Male').count()"
   ]
  },
  {
   "cell_type": "code",
   "execution_count": 5,
   "metadata": {},
   "outputs": [
    {
     "data": {
      "text/plain": [
       "200"
      ]
     },
     "execution_count": 5,
     "metadata": {},
     "output_type": "execute_result"
    }
   ],
   "source": [
    "Superhero_df.filter(Superhero_df.Gender == 'Female').count()"
   ]
  },
  {
   "cell_type": "code",
   "execution_count": 6,
   "metadata": {},
   "outputs": [
    {
     "name": "stdout",
     "output_type": "stream",
     "text": [
      "+------------------+-----+\n",
      "|              Race|count|\n",
      "+------------------+-----+\n",
      "|          Neyaphem|    1|\n",
      "|          Symbiote|    9|\n",
      "|        Kryptonian|    7|\n",
      "|           Ungaran|    1|\n",
      "|           Martian|    1|\n",
      "|         Strontian|    1|\n",
      "| Human / Radiation|   11|\n",
      "|   Kakarantharaian|    1|\n",
      "|         Metahuman|    2|\n",
      "|Dathomirian Zabrak|    1|\n",
      "|    Human / Cosmic|    2|\n",
      "|   Xenomorph XX121|    1|\n",
      "|            Animal|    4|\n",
      "|       Frost Giant|    2|\n",
      "|            Cyborg|   11|\n",
      "|           Inhuman|    4|\n",
      "|     God / Eternal|   14|\n",
      "|    Yoda's species|    1|\n",
      "|     Icthyo Sapien|    1|\n",
      "|            Rodian|    1|\n",
      "+------------------+-----+\n",
      "only showing top 20 rows\n",
      "\n"
     ]
    }
   ],
   "source": [
    "Race_df = Superhero_df.groupby(\"Race\")\\\n",
    ".count()\\\n",
    ".show()"
   ]
  },
  {
   "cell_type": "code",
   "execution_count": 7,
   "metadata": {},
   "outputs": [
    {
     "name": "stdout",
     "output_type": "stream",
     "text": [
      "+---+-----------------+------+---------+-----------------+----------+------+-----------------+----------+---------+------+\n",
      "|_c0|             name|Gender|Eye color|             Race|Hair color|Height|        Publisher|Skin color|Alignment|Weight|\n",
      "+---+-----------------+------+---------+-----------------+----------+------+-----------------+----------+---------+------+\n",
      "|  0|           A-Bomb|  Male|   yellow|            Human|   No Hair| 203.0|    Marvel Comics|         -|     good| 441.0|\n",
      "|  1|       Abe Sapien|  Male|     blue|    Icthyo Sapien|   No Hair| 191.0|Dark Horse Comics|      blue|     good|  65.0|\n",
      "|  2|         Abin Sur|  Male|     blue|          Ungaran|   No Hair| 185.0|        DC Comics|       red|     good|  90.0|\n",
      "|  3|      Abomination|  Male|    green|Human / Radiation|   No Hair| 203.0|    Marvel Comics|         -|      bad| 441.0|\n",
      "|  4|          Abraxas|  Male|     blue|    Cosmic Entity|     Black| -99.0|    Marvel Comics|         -|      bad| -99.0|\n",
      "|  5|    Absorbing Man|  Male|     blue|            Human|   No Hair| 193.0|    Marvel Comics|         -|      bad| 122.0|\n",
      "|  6|      Adam Monroe|  Male|     blue|                -|     Blond| -99.0|     NBC - Heroes|         -|     good| -99.0|\n",
      "|  7|     Adam Strange|  Male|     blue|            Human|     Blond| 185.0|        DC Comics|         -|     good|  88.0|\n",
      "|  8|         Agent 13|Female|     blue|                -|     Blond| 173.0|    Marvel Comics|         -|     good|  61.0|\n",
      "|  9|        Agent Bob|  Male|    brown|            Human|     Brown| 178.0|    Marvel Comics|         -|     good|  81.0|\n",
      "| 10|       Agent Zero|  Male|        -|                -|         -| 191.0|    Marvel Comics|         -|     good| 104.0|\n",
      "| 11|       Air-Walker|  Male|     blue|                -|     White| 188.0|    Marvel Comics|         -|      bad| 108.0|\n",
      "| 12|             Ajax|  Male|    brown|           Cyborg|     Black| 193.0|    Marvel Comics|         -|      bad|  90.0|\n",
      "| 13|       Alan Scott|  Male|     blue|                -|     Blond| 180.0|        DC Comics|         -|     good|  90.0|\n",
      "| 14|      Alex Mercer|  Male|        -|            Human|         -| -99.0|        Wildstorm|         -|      bad| -99.0|\n",
      "| 15|     Alex Woolsly|  Male|        -|                -|         -| -99.0|     NBC - Heroes|         -|     good| -99.0|\n",
      "| 16|Alfred Pennyworth|  Male|     blue|            Human|     Black| 178.0|        DC Comics|         -|     good|  72.0|\n",
      "| 17|            Alien|  Male|        -|  Xenomorph XX121|   No Hair| 244.0|Dark Horse Comics|     black|      bad| 169.0|\n",
      "| 18| Allan Quatermain|  Male|        -|                -|         -| -99.0|        Wildstorm|         -|     good| -99.0|\n",
      "| 19|            Amazo|  Male|      red|          Android|         -| 257.0|        DC Comics|         -|      bad| 173.0|\n",
      "+---+-----------------+------+---------+-----------------+----------+------+-----------------+----------+---------+------+\n",
      "only showing top 20 rows\n",
      "\n"
     ]
    }
   ],
   "source": [
    "Superhero_df.registerTempTable('superhero_table')\n",
    " \n",
    "sqlContext.sql('select * from superhero_table').show()\n"
   ]
  },
  {
   "cell_type": "code",
   "execution_count": 12,
   "metadata": {},
   "outputs": [
    {
     "name": "stdout",
     "output_type": "stream",
     "text": [
      "+-----------+\n",
      "|max(Weight)|\n",
      "+-----------+\n",
      "|      900.0|\n",
      "+-----------+\n",
      "\n"
     ]
    }
   ],
   "source": [
    "sqlContext.sql('select max(Weight) from superhero_table').show()"
   ]
  },
  {
   "cell_type": "code",
   "execution_count": null,
   "metadata": {},
   "outputs": [],
   "source": []
  }
 ],
 "metadata": {
  "kernelspec": {
   "display_name": "Python 3",
   "language": "python",
   "name": "python3"
  },
  "language_info": {
   "codemirror_mode": {
    "name": "ipython",
    "version": 3
   },
   "file_extension": ".py",
   "mimetype": "text/x-python",
   "name": "python",
   "nbconvert_exporter": "python",
   "pygments_lexer": "ipython3",
   "version": "3.6.5"
  }
 },
 "nbformat": 4,
 "nbformat_minor": 2
}
