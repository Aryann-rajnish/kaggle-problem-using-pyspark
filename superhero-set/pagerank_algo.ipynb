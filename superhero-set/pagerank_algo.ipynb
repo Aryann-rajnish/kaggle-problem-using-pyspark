{
 "cells": [
  {
   "cell_type": "code",
   "execution_count": 23,
   "metadata": {},
   "outputs": [],
   "source": [
    "##Creating Nested Lists of Web Pages with Outbound Links\n",
    "pageLinks = [['a', ['b','c','d']],\n",
    "['c', ['b']],['b', ['d','c']],['d', ['a','c']]]"
   ]
  },
  {
   "cell_type": "code",
   "execution_count": 24,
   "metadata": {},
   "outputs": [],
   "source": [
    "##Initializing Rank #1 to all the webpages\n",
    "pageRanks = [['a',1],['c',1],['b',1],['d',1]]"
   ]
  },
  {
   "cell_type": "code",
   "execution_count": 25,
   "metadata": {},
   "outputs": [],
   "source": [
    "##Defining the number of iterations for running the page rank\n",
    "###It will return the contribution to the page rank for the list of URIs\n",
    "def rankContribution(uris, rank):\n",
    "    numberOfUris = len(uris)\n",
    "    rankContribution = float(rank) / numberOfUris\n",
    "    newrank =[]\n",
    "    for uri in uris:\n",
    "        newrank.append((uri, rankContribution))\n",
    "    return newrank"
   ]
  },
  {
   "cell_type": "code",
   "execution_count": 26,
   "metadata": {},
   "outputs": [
    {
     "data": {
      "text/plain": [
       "[['a', ['b', 'c', 'd']], ['c', ['b']], ['b', ['d', 'c']], ['d', ['a', 'c']]]"
      ]
     },
     "execution_count": 26,
     "metadata": {},
     "output_type": "execute_result"
    }
   ],
   "source": [
    "##Creating paired RDDs of link data\n",
    "pageLinksRDD = sc.parallelize(pageLinks, 2)\n",
    "pageLinksRDD.collect()"
   ]
  },
  {
   "cell_type": "code",
   "execution_count": 27,
   "metadata": {},
   "outputs": [
    {
     "data": {
      "text/plain": [
       "[['a', 1], ['c', 1], ['b', 1], ['d', 1]]"
      ]
     },
     "execution_count": 27,
     "metadata": {},
     "output_type": "execute_result"
    }
   ],
   "source": [
    "##Creating the paired RDD of our rank data \n",
    "pageRanksRDD = sc.parallelize(pageRanks, 2)\n",
    "pageRanksRDD.collect()"
   ]
  },
  {
   "cell_type": "code",
   "execution_count": 28,
   "metadata": {},
   "outputs": [],
   "source": [
    "##Defining the number of iterations and the damping factor, s\n",
    "numIter = 20\n",
    "s = 0.85"
   ]
  },
  {
   "cell_type": "code",
   "execution_count": 29,
   "metadata": {},
   "outputs": [],
   "source": [
    "##Creating a Loop for Updating Page Rank\n",
    "for i in range(numIter):\n",
    "    linksRank = pageLinksRDD.join(pageRanksRDD)\n",
    "    contributedRDD = linksRank.flatMap(lambda x : rankContribution(x[1][0],x[1][1]))\n",
    "    sumRanks = contributedRDD.reduceByKey(lambda v1,v2 : v1+v2)\n",
    "    pageRanksRDD = sumRanks.map(lambda x : (x[0],(1-s)+s*x[1]))   "
   ]
  },
  {
   "cell_type": "code",
   "execution_count": 30,
   "metadata": {},
   "outputs": [
    {
     "data": {
      "text/plain": [
       "[('a', 0.5217268024809147),\n",
       " ('b', 1.357243795127982),\n",
       " ('c', 1.2463781024360086),\n",
       " ('d', 0.8746512999550939)]"
      ]
     },
     "execution_count": 30,
     "metadata": {},
     "output_type": "execute_result"
    }
   ],
   "source": [
    "pageRanksRDD.collect()"
   ]
  },
  {
   "cell_type": "code",
   "execution_count": null,
   "metadata": {},
   "outputs": [],
   "source": []
  }
 ],
 "metadata": {
  "kernelspec": {
   "display_name": "Python 3",
   "language": "python",
   "name": "python3"
  },
  "language_info": {
   "codemirror_mode": {
    "name": "ipython",
    "version": 3
   },
   "file_extension": ".py",
   "mimetype": "text/x-python",
   "name": "python",
   "nbconvert_exporter": "python",
   "pygments_lexer": "ipython3",
   "version": "3.6.5"
  }
 },
 "nbformat": 4,
 "nbformat_minor": 2
}
